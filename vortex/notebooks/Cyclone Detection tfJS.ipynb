{
 "cells": [
  {
   "cell_type": "markdown",
   "metadata": {},
   "source": [
    "# Custom Cyclone Detector \n",
    "\n",
    "Using YOLO - a famous Deep CNN for object detection"
   ]
  },
  {
   "cell_type": "code",
   "execution_count": null,
   "metadata": {},
   "outputs": [],
   "source": []
  }
 ],
 "metadata": {
  "interpreter": {
   "hash": "92f8549edb95926e67d9af130c51c844e0526e8912c849c6708914c947287dc8"
  },
  "kernelspec": {
   "display_name": "Python 3.9.7 ('vortex3.9')",
   "language": "python",
   "name": "python3"
  },
  "language_info": {
   "name": "python",
   "version": "3.9.7"
  },
  "orig_nbformat": 4
 },
 "nbformat": 4,
 "nbformat_minor": 2
}

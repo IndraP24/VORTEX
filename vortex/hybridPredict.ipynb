{
 "cells": [
  {
   "cell_type": "markdown",
   "metadata": {},
   "source": [
    "# Hybrid Prediction - Cyclone Detection and Intensity Estimation"
   ]
  },
  {
   "cell_type": "code",
   "execution_count": 12,
   "metadata": {},
   "outputs": [
    {
     "name": "stdout",
     "output_type": "stream",
     "text": [
      "[INFO] loading object detector...\n",
      "2022-03-29 12:38:33.378793: E tensorflow/stream_executor/cuda/cuda_driver.cc:271] failed call to cuInit: CUDA_ERROR_NO_DEVICE: no CUDA-capable device is detected\n",
      "2022-03-29 12:38:33.378881: I tensorflow/stream_executor/cuda/cuda_diagnostics.cc:169] retrieving CUDA diagnostic information for host: indra-pop-os\n",
      "2022-03-29 12:38:33.378908: I tensorflow/stream_executor/cuda/cuda_diagnostics.cc:176] hostname: indra-pop-os\n",
      "2022-03-29 12:38:33.379102: I tensorflow/stream_executor/cuda/cuda_diagnostics.cc:200] libcuda reported version is: 510.54.0\n",
      "2022-03-29 12:38:33.379174: I tensorflow/stream_executor/cuda/cuda_diagnostics.cc:204] kernel reported version is: 510.54.0\n",
      "2022-03-29 12:38:33.379197: I tensorflow/stream_executor/cuda/cuda_diagnostics.cc:310] kernel version seems to match DSO: 510.54.0\n",
      "2022-03-29 12:38:33.379838: I tensorflow/core/platform/cpu_feature_guard.cc:151] This TensorFlow binary is optimized with oneAPI Deep Neural Network Library (oneDNN) to use the following CPU instructions in performance-critical operations:  AVX2 FMA\n",
      "To enable them in other operations, rebuild TensorFlow with the appropriate compiler flags.\n",
      "[INFO] loaded object detector...\n",
      "--------------------------------------------------\n",
      "[INFO] loading intensity estimator model...\n",
      "[INFO] loaded intensity estimator model...\n",
      "The predicted class for the given image is:  NORMAL\n"
     ]
    }
   ],
   "source": [
    "!python hybridPred.py --input ../data/processed/threshZero_data/NORMAL/3DIMG_01DEC2020_0430_L1B_STD_IR2.jpg"
   ]
  },
  {
   "cell_type": "code",
   "execution_count": null,
   "metadata": {},
   "outputs": [],
   "source": []
  }
 ],
 "metadata": {
  "interpreter": {
   "hash": "92f8549edb95926e67d9af130c51c844e0526e8912c849c6708914c947287dc8"
  },
  "kernelspec": {
   "display_name": "Python 3.9.7 ('vortex3.9')",
   "language": "python",
   "name": "python3"
  },
  "language_info": {
   "codemirror_mode": {
    "name": "ipython",
    "version": 3
   },
   "file_extension": ".py",
   "mimetype": "text/x-python",
   "name": "python",
   "nbconvert_exporter": "python",
   "pygments_lexer": "ipython3",
   "version": "3.9.11"
  },
  "orig_nbformat": 4
 },
 "nbformat": 4,
 "nbformat_minor": 2
}
